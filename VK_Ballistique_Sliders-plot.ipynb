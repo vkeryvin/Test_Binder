{
 "cells": [
  {
   "cell_type": "markdown",
   "metadata": {},
   "source": [
    "<div style=\"float: right ; margin: 20px ; padding: 20px ; background: rgba(255 , 255 , 255 , 0.9) ; width: 80% ; height: 250px\">\n",
    "        <div style=\"position: relative ; top: 10% ; transform: translatey(-50%)\">\n",
    "            <div style=\"font-size: xx-large ; font-weight: 900 ; color: rgba(0 , 0 , 0 , .8) ; line-height: 100%\"\n",
    "                 > Mécanique du point matériel\n",
    "            </div>\n",
    "            <div style=\"font-size: x-large ; padding-top: 20px ; color: rgba(255 , 0 , 0 , 0.8)\"\n",
    "                 > Dynamique | Ballistique\n",
    "             </div>\n",
    "            <div style=\"font-size: large ; padding-top: 20px ; color: rgba(0 , 0 , 0 , 0.6)\"\n",
    "                 > Université Bretagne Sud, Lorient, France\n",
    "             </div>\n",
    "            <div style=\"font-size: large ; padding-top: 20px ; color: rgba(0 , 0 , 255 , 0.7)\"\n",
    "                 > L1 Mécanique, UE SDI 1102\n",
    "             </div>\n",
    "            <div style=\"font-size: large ; padding-top: 20px ; color: rgba(0 , 0 , 0 , 0.6)\"\n",
    "                 > Auteur : Prof. Vincent Keryvin\n",
    "             </div>\n",
    "        </div>\n",
    "    </div>"
   ]
  },
  {
   "cell_type": "markdown",
   "metadata": {},
   "source": [
    "---\n",
    "# Préambule\n",
    "---"
   ]
  },
  {
   "cell_type": "markdown",
   "metadata": {},
   "source": [
    "## Sources\n",
    "\n",
    "- UBS : Exercice 4 des TD de dynamique"
   ]
  },
  {
   "cell_type": "markdown",
   "metadata": {},
   "source": [
    "## Signification des bibliothèques\n",
    "\n",
    "- numpy\n",
    "    > The fundamental package for scientific computing with Python"
   ]
  },
  {
   "cell_type": "markdown",
   "metadata": {},
   "source": [
    "## Import des bibliothèques"
   ]
  },
  {
   "cell_type": "code",
   "execution_count": 1,
   "metadata": {},
   "outputs": [],
   "source": [
    "import numpy as np\n",
    "import matplotlib.pyplot as plt\n",
    "import ipywidgets as wid\n",
    "%matplotlib widget"
   ]
  },
  {
   "cell_type": "code",
   "execution_count": 2,
   "metadata": {},
   "outputs": [],
   "source": [
    "#plt.rc('text', usetex=True)"
   ]
  },
  {
   "cell_type": "markdown",
   "metadata": {},
   "source": [
    "---\n",
    "# Equations disponibles\n",
    "---"
   ]
  },
  {
   "cell_type": "markdown",
   "metadata": {},
   "source": [
    "## Saut\n",
    "\n",
    "- $\\mathcal{B_0} = (\\vec{\\imath}, \\vec{\\jmath})$ : base cartésienne fixe\n",
    "\n",
    "- Conditions initiales : \n",
    "    - t=0\n",
    "    - x(0) = 0\n",
    "    - y(0) = 0\n",
    "    - $\\dot{x}$(0) = $V_0\\cos\\alpha$\n",
    "    - $\\dot{y}$(0) = $V_0\\sin\\alpha$\n",
    "- Accélération\n",
    "$\n",
    "\\vec{a}(t) = \\left (\n",
    "\\begin{array}{lcl}\n",
    " \\ddot{x}(t) & = & 0\\\\\n",
    " \\ddot{y}(t) & = & -g\n",
    "\\end{array}\n",
    "\\right )_{\\mathcal{B_0}}\n",
    "$\n",
    "\n",
    "\n",
    "- Vitesse\n",
    "$\n",
    "\\vec{v}(t) = \\left (\n",
    "\\begin{array}{lcl}\n",
    " \\dot{x}(t) & = &  V_0\\cos\\alpha\\\\\n",
    " \\dot{y}(t) & = &  -gt + V_0\\sin\\alpha \n",
    "\\end{array}\n",
    "\\right )_{\\mathcal{B_0}}\n",
    "$\n",
    "\n",
    "\n",
    "- Position\n",
    "$\n",
    "\\vec{OM}(t) = \\left (\n",
    "\\begin{array}{lcl}\n",
    " x(t) & = & V_0\\cos\\alpha t\\\\\n",
    " y(t) & = & -\\frac{1}{2}gt^2 + V_0\\sin\\alpha t\n",
    "\\end{array}\n",
    "\\right )_{\\mathcal{B_0}}\n",
    "$\n",
    "\n",
    "- Temps de vol\n",
    "$\n",
    "t_v = 2V_0\\sin(\\alpha)/g\n",
    "$"
   ]
  },
  {
   "cell_type": "markdown",
   "metadata": {},
   "source": [
    "---\n",
    "# Données numériques\n",
    "---"
   ]
  },
  {
   "cell_type": "markdown",
   "metadata": {},
   "source": [
    "## Données physiques"
   ]
  },
  {
   "cell_type": "code",
   "execution_count": 3,
   "metadata": {},
   "outputs": [],
   "source": [
    "g         = 9.81                      # norme de l'accélération de la pesanteur en m/s/s"
   ]
  },
  {
   "cell_type": "markdown",
   "metadata": {},
   "source": [
    "---\n",
    "# Fonctions\n",
    "---"
   ]
  },
  {
   "cell_type": "markdown",
   "metadata": {
    "tags": []
   },
   "source": [
    "## Position"
   ]
  },
  {
   "cell_type": "code",
   "execution_count": 4,
   "metadata": {},
   "outputs": [],
   "source": [
    "x = lambda g, V0, alfa, t: V0*np.cos(alfa)*t\n",
    "y = lambda g, V0, alfa, t: V0*np.sin(alfa)*t - g/2*t**2"
   ]
  },
  {
   "cell_type": "markdown",
   "metadata": {
    "tags": []
   },
   "source": [
    "## Vitesse"
   ]
  },
  {
   "cell_type": "code",
   "execution_count": 5,
   "metadata": {},
   "outputs": [],
   "source": [
    "vx = lambda g, V0, alfa, t: V0*np.cos(alfa)*(1-0*t)\n",
    "vy = lambda g, V0, alfa, t: V0*np.sin(alfa) - g*t"
   ]
  },
  {
   "cell_type": "markdown",
   "metadata": {
    "tags": []
   },
   "source": [
    "## Accélération"
   ]
  },
  {
   "cell_type": "code",
   "execution_count": 6,
   "metadata": {},
   "outputs": [],
   "source": [
    "axx = lambda g,t: 0*t\n",
    "ay  = lambda g, t: -g*(1-0*t)"
   ]
  },
  {
   "cell_type": "markdown",
   "metadata": {},
   "source": [
    "---\n",
    "# Animations\n",
    "---"
   ]
  },
  {
   "cell_type": "markdown",
   "metadata": {},
   "source": [
    "## Figure avec curseurs : influences de l'angle initial et de la vitesse initiale"
   ]
  },
  {
   "cell_type": "code",
   "execution_count": 10,
   "metadata": {},
   "outputs": [
    {
     "data": {
      "application/vnd.jupyter.widget-view+json": {
       "model_id": "0a5b257b4be747f8b4e25fc0d945f76f",
       "version_major": 2,
       "version_minor": 0
      },
      "text/plain": [
       "Output()"
      ]
     },
     "metadata": {},
     "output_type": "display_data"
    },
    {
     "data": {
      "application/vnd.jupyter.widget-view+json": {
       "model_id": "095fa379fd274258a666e395849b3ff3",
       "version_major": 2,
       "version_minor": 0
      },
      "text/plain": [
       "VBox(children=(FloatSlider(value=1.0, description='V$_0$ [m/s]', max=10.0, min=1.0, step=1.0), FloatSlider(val…"
      ]
     },
     "metadata": {},
     "output_type": "display_data"
    }
   ],
   "source": [
    "# Réglages du graphe\n",
    "plt.xlabel(r'$x$ [m]', color='darkred', size=18)\n",
    "plt.ylabel(r'$y$ [m]', color='darkred', size=18)\n",
    "plt.axhline(color='k')\n",
    "\n",
    "# Définition des paramètres variables et de leur position\n",
    "a = wid.FloatSlider(min=1, max=10, value=1, step=1, description=\"V$_0$ [m/s]\")\n",
    "b = wid.FloatSlider(min=0, max=90, value=5, step=5, description=r\"$\\alpha$ [°]\")\n",
    "ui = wid.VBox([a,b])\n",
    "\n",
    "# Fonction à mettre à jour \n",
    "def update(V0,alfa):\n",
    "    alfa *= np.pi/180                             # Passage degrés/radians\n",
    "    tv        = 2*V0*np.sin(alfa)/g               # Temps de vol\n",
    "    t = np.linspace(0,tv,1000)                    # Plage de temps\n",
    "    plt.plot(x(g, V0, alfa,t), y(g, V0, alfa,t))  # Tracé\n",
    "    plt.show()\n",
    "# Creation de l'interactivité et son affichage\n",
    "w = wid.interactive_output(update, {'V0': a, 'alfa': b})\n",
    "display(w,ui)"
   ]
  },
  {
   "cell_type": "code",
   "execution_count": null,
   "metadata": {},
   "outputs": [],
   "source": []
  }
 ],
 "metadata": {
  "hide_input": false,
  "kernelspec": {
   "display_name": "Python 3 (ipykernel)",
   "language": "python",
   "name": "python3"
  },
  "language_info": {
   "codemirror_mode": {
    "name": "ipython",
    "version": 3
   },
   "file_extension": ".py",
   "mimetype": "text/x-python",
   "name": "python",
   "nbconvert_exporter": "python",
   "pygments_lexer": "ipython3",
   "version": "3.8.15"
  }
 },
 "nbformat": 4,
 "nbformat_minor": 4
}
