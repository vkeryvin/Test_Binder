{
 "cells": [
  {
   "cell_type": "markdown",
   "metadata": {},
   "source": [
    "<div style=\"float: right ; margin: 20px ; padding: 20px ; background: rgba(255 , 255 , 255 , 0.9) ; width: 80% ; height: 250px\">\n",
    "        <div style=\"position: relative ; top: 10% ; transform: translatey(-50%)\">\n",
    "            <div style=\"font-size: xx-large ; font-weight: 900 ; color: rgba(0 , 0 , 0 , .8) ; line-height: 100%\"\n",
    "                 > Outil \n",
    "            </div>\n",
    "            <div style=\"font-size: x-large ; padding-top: 20px ; color: rgba(255 , 0 , 0 , 0.8)\"\n",
    "                 > Régression linéaire interactive\n",
    "             </div>\n",
    "            <div style=\"font-size: large ; padding-top: 20px ; color: rgba(0 , 0 , 0 , 0.6)\"\n",
    "                 > Université Bretagne Sud, Lorient, France\n",
    "             </div>\n",
    "            <div style=\"font-size: large ; padding-top: 20px ; color: rgba(0 , 0 , 255 , 0.7)\"\n",
    "                 > Licence Mécanique\n",
    "             </div>\n",
    "            <div style=\"font-size: large ; padding-top: 20px ; color: rgba(0 , 0 , 0 , 0.6)\"\n",
    "                 > Auteur : Prof. Vincent Keryvin\n",
    "             </div>\n",
    "        </div>\n",
    "    </div>"
   ]
  },
  {
   "cell_type": "markdown",
   "metadata": {},
   "source": [
    "---\n",
    "# Préambule\n",
    "---"
   ]
  },
  {
   "cell_type": "markdown",
   "metadata": {},
   "source": [
    "## Signification des bibliothèques\n",
    "\n",
    "- numpy\n",
    "    > The fundamental package for scientific computing with Python\n",
    "- matplotlib\n",
    "    > Matplotlib is a comprehensive library for creating static, animated, and interactive visualizations in Python. Matplotlib makes easy things easy and hard things possible.\n",
    "- ipywidgets\n",
    "    > ipywidgets, also known as jupyter-widgets or simply widgets, are interactive HTML widgets for Jupyter notebooks and the IPython kernel.\n",
    "- scipy\n",
    "    > SciPy provides algorithms for optimization, integration, interpolation, eigenvalue problems, algebraic equations, differential equations, statistics and many other classes of problems."
   ]
  },
  {
   "cell_type": "markdown",
   "metadata": {},
   "source": [
    "## Import des bibliothèques"
   ]
  },
  {
   "cell_type": "code",
   "execution_count": 1,
   "metadata": {},
   "outputs": [],
   "source": [
    "import numpy as np\n",
    "import matplotlib.pyplot as plt\n",
    "import ipywidgets as wid\n",
    "from scipy.optimize import curve_fit"
   ]
  },
  {
   "cell_type": "markdown",
   "metadata": {},
   "source": [
    "---\n",
    "# Travail\n",
    "---"
   ]
  },
  {
   "cell_type": "markdown",
   "metadata": {},
   "source": [
    "## Données dont on fait la régression"
   ]
  },
  {
   "cell_type": "code",
   "execution_count": 2,
   "metadata": {},
   "outputs": [],
   "source": [
    "xdata = np.linspace(0, 10, 100)\n",
    "f = lambda x: 2*x+1 + np.random.rand(x.shape[0])*3\n",
    "ydata = f(xdata)"
   ]
  },
  {
   "cell_type": "markdown",
   "metadata": {},
   "source": [
    "## Fonction de régression"
   ]
  },
  {
   "cell_type": "code",
   "execution_count": 3,
   "metadata": {},
   "outputs": [],
   "source": [
    "fit = lambda x, a, b: a*x+b"
   ]
  },
  {
   "cell_type": "markdown",
   "metadata": {},
   "source": [
    "## Régression interactive"
   ]
  },
  {
   "cell_type": "code",
   "execution_count": 4,
   "metadata": {},
   "outputs": [
    {
     "data": {
      "application/vnd.jupyter.widget-view+json": {
       "model_id": "1774336e14224fd8a08978170f36650d",
       "version_major": 2,
       "version_minor": 0
      },
      "text/plain": [
       "Output()"
      ]
     },
     "metadata": {},
     "output_type": "display_data"
    },
    {
     "data": {
      "application/vnd.jupyter.widget-view+json": {
       "model_id": "0fcae4f2fc8249fe9c182ebbc6ba0a44",
       "version_major": 2,
       "version_minor": 0
      },
      "text/plain": [
       "VBox(children=(FloatSlider(value=0.0, description='xmin', max=10.0), FloatSlider(value=10.0, description='xmax…"
      ]
     },
     "metadata": {},
     "output_type": "display_data"
    }
   ],
   "source": [
    "# Réglages de la figure\n",
    "\n",
    "# Fonction d'actualisation de la figure\n",
    "def actualisation(xmin,xmax):\n",
    "    # Sélection des données pour la régression entre xmin et xmax\n",
    "    condition1 = (xdata<=xmax) & (xdata>=xmin)\n",
    "    xfit = np.extract(condition1, xdata)       # intervalle choisi entre les abcisses xmin et xmax\n",
    "    yfit = f(xfit)                             # plage des ordonnées associée\n",
    "    condition2 = (xdata>xmax) | (xdata<xmin)\n",
    "    xnfit = np.extract(condition2, xdata)      # intervalle complémentaire\n",
    "    ynfit = f(xnfit)                           # plage des ordonnées associée\n",
    "    # Régression linéaire\n",
    "    popt, pcov = curve_fit(fit,xfit,yfit)      # régression linéaire au sens des moindes carrés discrets\n",
    "    residuals = yfit - fit(xfit, *popt)        # écarts entre données et régression\n",
    "    ss_res = np.sum(residuals**2)              # somme des carrés des écarts\n",
    "    ss_tot = np.sum((yfit-np.mean(yfit))**2)\n",
    "    r2 = 1 - (ss_res / ss_tot)                 # coefficient de régression (son carré)\n",
    "    # Tracés\n",
    "    plt.title(r'Régression linéaire interactive', color='darkblue', size=16)\n",
    "    plt.grid(True)\n",
    "    plt.xlabel(\"Abcisse, x [?]\",    color='darkred', size=16)\n",
    "    plt.ylabel(\"Ordonnée, y [?]\", color='darkred', size=16)\n",
    "    plt.plot(xfit, yfit, 'o', color='blue', label='Données utilisées')\n",
    "    plt.plot(xnfit, ynfit, 'o', color='green', label='Données non utilisées')\n",
    "    plt.plot(xfit, fit(xfit,*popt), color='orange', label='Régression y(x) = ax+b')\n",
    "    plt.legend(fontsize=12)\n",
    "    plt.axvline(xmin, ls='--', c='orange', lw=.5)\n",
    "    plt.axvline(xmax, ls='--', c='orange', lw=.5)\n",
    "    texte = 'Paramètres de la régression'  + '\\n' + 'entre x$_{min}$=%3.1f, x$_{max}$=%3.1f' % (xmin,xmax) + '\\n' + 'a=%5.2f, b=%5.2f' % tuple(popt) + '\\n' +'R$^2$=%5.2f'% (r2)\n",
    "    plt.text(6, 4, texte, size=12, rotation=0.,\n",
    "         ha=\"center\", va=\"center\",\n",
    "         bbox=dict(boxstyle=\"round\",\n",
    "                   ec=(1., 0.5, 0.5),\n",
    "                   fc=(1., 0.8, 0.8),\n",
    "                   ))\n",
    "    plt.savefig('Figure_propre_pour_CR.pdf')\n",
    "    \n",
    "# Curseurs\n",
    "a = wid.FloatSlider(min=xdata.min(), max=xdata.max(), value=xdata.min(), step=.1, description=\"xmin\")\n",
    "b = wid.FloatSlider(min=xdata.min(), max=xdata.max(), value=xdata.max(), step=.1, description=\"xmax\")\n",
    "\n",
    "# Interactivité\n",
    "w = wid.interactive_output(actualisation, {'xmin': a, 'xmax': b})\n",
    "ui = wid.VBox([a, b])\n",
    "display(w,ui)"
   ]
  }
 ],
 "metadata": {
  "hide_input": false,
  "kernelspec": {
   "display_name": "Python 3 (ipykernel)",
   "language": "python",
   "name": "python3"
  },
  "language_info": {
   "codemirror_mode": {
    "name": "ipython",
    "version": 3
   },
   "file_extension": ".py",
   "mimetype": "text/x-python",
   "name": "python",
   "nbconvert_exporter": "python",
   "pygments_lexer": "ipython3",
   "version": "3.8.15"
  }
 },
 "nbformat": 4,
 "nbformat_minor": 4
}
